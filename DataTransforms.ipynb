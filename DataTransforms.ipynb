{
 "cells": [
  {
   "cell_type": "code",
   "execution_count": 1,
   "metadata": {},
   "outputs": [],
   "source": [
    "import json\n",
    "import random\n",
    "from pathlib import Path\n",
    "\n",
    "import pandas as pd\n",
    "\n",
    "%load_ext autoreload\n",
    "%autoreload 2\n",
    "Path.ls = lambda x: list(x.iterdir())\n",
    "# from urllib.parse import quote_plus"
   ]
  },
  {
   "cell_type": "code",
   "execution_count": 2,
   "metadata": {},
   "outputs": [],
   "source": [
    "import urllib.request, json\n",
    "from urllib.error import HTTPError\n",
    "\n",
    "def get_raw_data(raw_web_url=\"https://api.covid19india.org/raw_data.json\"):\n",
    "    with urllib.request.urlopen(raw_web_url) as url:\n",
    "        data_dict = json.loads(url.read().decode())\n",
    "        return data_dict[\"raw_data\"]\n",
    "\n",
    "\n",
    "def get_stats_history(stats_history_url=\"https://api.rootnet.in/covid19-in/stats/history\"):\n",
    "    try:\n",
    "        with urllib.request.urlopen(stats_history_url) as url:\n",
    "            data_dict = json.loads(url.read().decode())\n",
    "            return data_dict\n",
    "    except HTTPError as e:\n",
    "        print(f\"Using local backup of {stats_history_url}\")\n",
    "        with open(\"history.json\") as f:\n",
    "            return json.loads(f.read())\n",
    "        \n",
    "def get_state_data(\n",
    "    case_count_url=\"https://api.covid19india.org/state_district_wise.json\",\n",
    "):\n",
    "    with urllib.request.urlopen(case_count_url) as url:\n",
    "        data_dict = json.loads(url.read().decode())\n",
    "        return data_dict\n",
    "\n",
    "\n",
    "def get_case_count(data, state=\"Karnataka\"):\n",
    "    df = pd.DataFrame(data[state][\"districtData\"])\n",
    "    df = df.transpose()\n",
    "    df.reset_index(inplace=True)\n",
    "    df.rename(columns={\"confirmed\": \"CaseCount\", \"index\": \"District\"}, inplace=True)\n",
    "    df.drop(columns=[\"lastupdatedtime\"], inplace=True)\n",
    "    return df"
   ]
  },
  {
   "cell_type": "code",
   "execution_count": 3,
   "metadata": {},
   "outputs": [
    {
     "name": "stdout",
     "output_type": "stream",
     "text": [
      "Using local backup of https://api.rootnet.in/covid19-in/stats/history\n"
     ]
    }
   ],
   "source": [
    "from typing import List, Dict\n",
    "stats:List = get_stats_history()[\"data\"]"
   ]
  },
  {
   "cell_type": "code",
   "execution_count": 4,
   "metadata": {},
   "outputs": [],
   "source": [
    "def get_date_df(stat: Dict) -> pd.DataFrame:\n",
    "    day = stat[\"day\"]\n",
    "#     print(stat.keys())\n",
    "    regional = stat[\"regional\"]\n",
    "    elements = [{\"Day\":day, \"Province/State\":region[\"loc\"], \"CaseCount\": region[\"confirmedCasesIndian\"]+region[\"confirmedCasesForeign\"]} for region in regional]\n",
    "    return pd.DataFrame(elements)\n"
   ]
  },
  {
   "cell_type": "code",
   "execution_count": 5,
   "metadata": {},
   "outputs": [],
   "source": [
    "regionwise_df = [get_date_df(stat) for stat in stats]\n",
    "regionwise_df = pd.concat(regionwise_df)\n",
    "regionwise_df.reset_index(inplace=True)\n",
    "regionwise_df.drop(columns=[\"index\"], inplace=True)"
   ]
  },
  {
   "cell_type": "code",
   "execution_count": 6,
   "metadata": {},
   "outputs": [
    {
     "data": {
      "text/plain": [
       "Index(['Day', 'Province/State', 'CaseCount'], dtype='object')"
      ]
     },
     "execution_count": 6,
     "metadata": {},
     "output_type": "execute_result"
    }
   ],
   "source": [
    "regionwise_df.columns"
   ]
  },
  {
   "cell_type": "markdown",
   "metadata": {},
   "source": [
    "## Transform to the JHU data format\n",
    "See this [Github link to data](https://github.com/CSSEGISandData/COVID-19/blob/master/csse_covid_19_data/csse_covid_19_time_series/time_series_covid19_confirmed_global.csv) for reference"
   ]
  },
  {
   "cell_type": "code",
   "execution_count": 7,
   "metadata": {},
   "outputs": [],
   "source": [
    "pd.set_option(\"display.max_rows\", 500)\n",
    "datewise_pivot_df = pd.pivot_table(\n",
    "    regionwise_df,\n",
    "    index=[\"Province/State\"],\n",
    "    values=[\"CaseCount\"],\n",
    "    columns=[\"Day\"],\n",
    "    aggfunc=sum,\n",
    ").fillna(0)"
   ]
  },
  {
   "cell_type": "code",
   "execution_count": 8,
   "metadata": {},
   "outputs": [],
   "source": [
    "datewise_pivot_df.columns = [\n",
    "    element[1] for element in datewise_pivot_df.columns.to_list()\n",
    "]"
   ]
  },
  {
   "cell_type": "code",
   "execution_count": 9,
   "metadata": {},
   "outputs": [
    {
     "data": {
      "text/plain": [
       "Index(['2020-03-10', '2020-03-11', '2020-03-12', '2020-03-13', '2020-03-14',\n",
       "       '2020-03-15', '2020-03-16', '2020-03-17', '2020-03-18', '2020-03-19',\n",
       "       '2020-03-20', '2020-03-21', '2020-03-22', '2020-03-23', '2020-03-24',\n",
       "       '2020-03-25', '2020-03-26', '2020-03-27', '2020-03-28'],\n",
       "      dtype='object')"
      ]
     },
     "execution_count": 9,
     "metadata": {},
     "output_type": "execute_result"
    }
   ],
   "source": [
    "datewise_pivot_df.columns"
   ]
  },
  {
   "cell_type": "code",
   "execution_count": 10,
   "metadata": {},
   "outputs": [],
   "source": [
    "datewise_pivot_df.insert(0, \"Country/Region\", \"India\")"
   ]
  },
  {
   "cell_type": "code",
   "execution_count": 11,
   "metadata": {},
   "outputs": [],
   "source": [
    "datewise_pivot_df.to_csv(\"time_series_covid19_confirmed_India.csv\", header=True)"
   ]
  },
  {
   "cell_type": "code",
   "execution_count": 12,
   "metadata": {},
   "outputs": [
    {
     "name": "stdout",
     "output_type": "stream",
     "text": [
      "Province/State,Country/Region,2020-03-10,2020-03-11,2020-03-12,2020-03-13,2020-03-14,2020-03-15,2020-03-16,2020-03-17,2020-03-18,2020-03-19,2020-03-20,2020-03-21,2020-03-22,2020-03-23,2020-03-24,2020-03-25,2020-03-26,2020-03-27,2020-03-28\r\n",
      "Andaman and Nicobar Islands,India,0.0,0.0,0.0,0.0,0.0,0.0,0.0,0.0,0.0,0.0,0.0,0.0,0.0,0.0,0.0,0.0,1.0,1.0,6.0\r\n",
      "Andhra Pradesh,India,0.0,0.0,0.0,1.0,1.0,1.0,1.0,1.0,1.0,2.0,3.0,3.0,5.0,7.0,8.0,9.0,11.0,12.0,14.0\r\n",
      "Bihar,India,0.0,0.0,0.0,0.0,0.0,0.0,0.0,0.0,0.0,0.0,0.0,0.0,2.0,2.0,3.0,4.0,6.0,6.0,9.0\r\n",
      "Chandigarh,India,0.0,0.0,0.0,0.0,0.0,0.0,0.0,0.0,0.0,1.0,1.0,1.0,5.0,6.0,7.0,7.0,7.0,7.0,8.0\r\n",
      "Chhattisgarh,India,0.0,0.0,0.0,0.0,0.0,0.0,0.0,0.0,0.0,1.0,1.0,1.0,1.0,1.0,1.0,1.0,6.0,6.0,6.0\r\n",
      "Delhi,India,4.0,5.0,6.0,7.0,7.0,7.0,7.0,8.0,10.0,12.0,17.0,26.0,29.0,29.0,30.0,31.0,36.0,36.0,39.0\r\n",
      "Goa,India,0.0,0.0,0.0,0.0,0.0,0.0,0.0,0.0,0.0,0.0,0.0,0.0,0.0,0.0,0.0,0.0,3.0,3.0,3.0\r\n",
      "Gujarat,India,0.0,0.0,0.0,0.0,0.0,0.0,0.0,0.0,0.0,0.0,5.0,7.0,18.0,29.0,33.0,38.0,43.0,43.0,45.0\r\n",
      "Haryana,India,14.0,14.0,14.0,14.0,14.0,14.0,14.0,15.0,17.0,17.0,17.0,17.0,21.0,26.0,28.0,28.0,30.0,30.0,33.0\r\n",
      "Himachal Pradesh,India,0.0,0.0,0.0,0.0,0.0,0.0,0.0,0.0,0.0,0.0,0.0,2.0,2.0,2.0,3.0,3.0,3.0,3.0,3.0\r\n",
      "Jammu and Kashmir,India,1.0,1.0,1.0,1.0,2.0,2.0,3.0,3.0,3.0,4.0,4.0,4.0,4.0,4.0,4.0,7.0,13.0,13.0,20.0\r\n",
      "Karnataka,India,1.0,4.0,4.0,6.0,6.0,6.0,6.0,11.0,11.0,14.0,15.0,15.0,26.0,33.0,37.0,41.0,55.0,55.0,55.0\r\n",
      "Kerala,India,9.0,17.0,17.0,19.0,19.0,22.0,23.0,26.0,27.0,27.0,28.0,40.0,52.0,67.0,95.0,109.0,118.0,137.0,176.0\r\n",
      "Ladakh,India,2.0,2.0,3.0,3.0,3.0,3.0,4.0,6.0,8.0,8.0,10.0,13.0,13.0,13.0,13.0,13.0,13.0,13.0,13.0\r\n",
      "Madhya Pradesh,India,0.0,0.0,0.0,0.0,0.0,0.0,0.0,0.0,0.0,0.0,0.0,4.0,4.0,6.0,7.0,14.0,20.0,20.0,30.0\r\n",
      "Maharashtra,India,2.0,2.0,11.0,14.0,14.0,32.0,32.0,39.0,42.0,47.0,52.0,63.0,67.0,74.0,89.0,128.0,124.0,130.0,180.0\r\n",
      "Manipur,India,0.0,0.0,0.0,0.0,0.0,0.0,0.0,0.0,0.0,0.0,0.0,0.0,0.0,0.0,1.0,1.0,1.0,1.0,1.0\r\n",
      "Mizoram,India,0.0,0.0,0.0,0.0,0.0,0.0,0.0,0.0,0.0,0.0,0.0,0.0,0.0,0.0,0.0,1.0,1.0,1.0,1.0\r\n",
      "Odisha,India,0.0,0.0,0.0,0.0,0.0,0.0,1.0,1.0,1.0,1.0,2.0,2.0,2.0,2.0,2.0,2.0,2.0,2.0,3.0\r\n",
      "Puducherry,India,0.0,0.0,0.0,0.0,0.0,0.0,0.0,0.0,1.0,1.0,1.0,1.0,1.0,1.0,1.0,1.0,1.0,1.0,1.0\r\n",
      "Punjab,India,1.0,1.0,1.0,1.0,1.0,1.0,1.0,1.0,1.0,2.0,2.0,13.0,21.0,21.0,29.0,29.0,33.0,33.0,38.0\r\n",
      "Rajasthan,India,2.0,3.0,3.0,3.0,3.0,4.0,4.0,4.0,4.0,7.0,17.0,17.0,24.0,28.0,32.0,36.0,41.0,41.0,54.0\r\n",
      "Tamil Nadu,India,1.0,1.0,1.0,1.0,1.0,1.0,1.0,1.0,1.0,2.0,3.0,3.0,7.0,9.0,15.0,18.0,26.0,29.0,40.0\r\n",
      "Telengana,India,1.0,1.0,1.0,1.0,1.0,3.0,3.0,5.0,6.0,6.0,17.0,21.0,22.0,32.0,35.0,35.0,44.0,45.0,56.0\r\n",
      "Uttar Pradesh,India,9.0,9.0,11.0,11.0,12.0,13.0,13.0,15.0,16.0,19.0,23.0,24.0,27.0,31.0,33.0,37.0,41.0,41.0,55.0\r\n",
      "Uttarakhand,India,0.0,0.0,0.0,0.0,0.0,1.0,1.0,1.0,1.0,1.0,3.0,3.0,3.0,3.0,4.0,4.0,5.0,5.0,5.0\r\n",
      "West Bengal,India,0.0,0.0,0.0,0.0,0.0,0.0,0.0,0.0,1.0,1.0,2.0,3.0,4.0,7.0,9.0,9.0,10.0,10.0,15.0\r\n"
     ]
    }
   ],
   "source": [
    "!cat time_series_covid19_confirmed_India.csv"
   ]
  }
 ],
 "metadata": {
  "kernelspec": {
   "display_name": "Python 3",
   "language": "python",
   "name": "python3"
  },
  "language_info": {
   "codemirror_mode": {
    "name": "ipython",
    "version": 3
   },
   "file_extension": ".py",
   "mimetype": "text/x-python",
   "name": "python",
   "nbconvert_exporter": "python",
   "pygments_lexer": "ipython3",
   "version": "3.7.5"
  }
 },
 "nbformat": 4,
 "nbformat_minor": 2
}
