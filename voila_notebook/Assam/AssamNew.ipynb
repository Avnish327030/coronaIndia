{
 "cells": [
  {
   "cell_type": "code",
   "execution_count": 1,
   "metadata": {},
   "outputs": [],
   "source": [
    "import json\n",
    "import random\n",
    "from pathlib import Path\n",
    "import pandas as pd\n",
    "import contextlib\n",
    "import io\n",
    "from seirsplus.models import *\n",
    "import networkx\n",
    "import sys\n",
    "from ipywidgets import HBox, VBox, IntSlider, interactive, SelectionSlider, Label, Layout, HTML, Output, GridBox,FloatSlider,FloatLogSlider\n",
    "from IPython.display import display\n",
    "import folium\n",
    "import json\n",
    "import pandas as pd\n",
    "import geopandas as gpd\n",
    "import geopatra\n",
    "import random\n",
    "from IPython.utils import io\n",
    "from branca.colormap import linear\n",
    "from typing import Union, List"
   ]
  },
  {
   "cell_type": "code",
   "execution_count": 2,
   "metadata": {},
   "outputs": [],
   "source": [
    "assam_travel_history = Path(\"AssamTravelHistory.xlsx\").resolve()\n",
    "xl = pd.ExcelFile(assam_travel_history)"
   ]
  },
  {
   "cell_type": "code",
   "execution_count": 3,
   "metadata": {},
   "outputs": [],
   "source": [
    "def read_assam_excel_to_df(filename:str)->pd.DataFrame:\n",
    "    xl = pd.ExcelFile(filename)\n",
    "    df_list = []\n",
    "    for sheet_name in xl.sheet_names:\n",
    "        district_df = xl.parse(sheet_name)\n",
    "        district_df[\"district\"] = sheet_name\n",
    "        district_df.drop(columns=[\"S.No.\"], inplace=True)\n",
    "        df_list.append(district_df)\n",
    "    return pd.concat(df_list, sort=False)\n",
    "\n",
    "df = read_assam_excel_to_df(assam_travel_history)"
   ]
  },
  {
   "cell_type": "code",
   "execution_count": 4,
   "metadata": {},
   "outputs": [],
   "source": [
    "df[\"DateOfArrival\"] = pd.to_datetime(df[\"Date of arrival\"])\n",
    "df[\"DateOfReturn\"] = pd.to_datetime(df[\"Date of Receipt\"])\n",
    "df.drop(columns=[\"Date of arrival\", \"Date of Receipt\"], inplace=True)"
   ]
  },
  {
   "cell_type": "code",
   "execution_count": 5,
   "metadata": {},
   "outputs": [],
   "source": [
    "df_copy = df\n",
    "df_copy[\"Inflow\"] = 1\n",
    "assam_traveller_count_df = df_copy.groupby(\"district\").agg({\"Inflow\": \"sum\"})\n",
    "assam_traveller_count_df.reset_index(inplace=True)"
   ]
  },
  {
   "cell_type": "code",
   "execution_count": 6,
   "metadata": {},
   "outputs": [],
   "source": [
    "def clean_district_names(dname: str):\n",
    "    input_to_output_mapping = {\n",
    "        \"Cacher\": \"Cachar\",\n",
    "        \"Kamrup_M\": \"Kamrup Metropolitan\",\n",
    "        \"Kamrup_R\": \"Kamrup\",\n",
    "        \"KarbiAnlong\": \"Karbi Anglong\",\n",
    "        \"Baksha\": \"Baksa\",\n",
    "    }\n",
    "    return input_to_output_mapping.get(dname, dname)"
   ]
  },
  {
   "cell_type": "code",
   "execution_count": 7,
   "metadata": {},
   "outputs": [],
   "source": [
    "assam_traveller_count_df[\"district\"] = assam_traveller_count_df.district.apply(clean_district_names)"
   ]
  },
  {
   "cell_type": "code",
   "execution_count": 8,
   "metadata": {
    "scrolled": false
   },
   "outputs": [],
   "source": [
    "assam_pop_web_raw = pd.read_html(\"https://www.census2011.co.in/census/state/districtlist/assam.html\")\n",
    "assam_pop_web_raw = assam_pop_web_raw[0][[\"District\", \"Population\"]]\n",
    "assam_pop_df = assam_pop_web_raw[~(assam_pop_web_raw[\"District\"].apply(lambda x: len(x)) > 21)]\n",
    "# assam_pop_df"
   ]
  },
  {
   "cell_type": "code",
   "execution_count": 9,
   "metadata": {},
   "outputs": [],
   "source": [
    "assam_pop_df_rename = assam_pop_df.rename(columns = {'District':'district'}) "
   ]
  },
  {
   "cell_type": "code",
   "execution_count": 10,
   "metadata": {},
   "outputs": [],
   "source": [
    "assam_df = pd.merge(assam_pop_df_rename, assam_traveller_count_df, on=\"district\", how=\"left\")"
   ]
  },
  {
   "cell_type": "markdown",
   "metadata": {},
   "source": [
    "# Running SIERS Plus for Assam\n",
    "## Challenge: Assam has zero cases right now"
   ]
  },
  {
   "cell_type": "code",
   "execution_count": 11,
   "metadata": {},
   "outputs": [],
   "source": [
    "@contextlib.contextmanager\n",
    "def nostdout():\n",
    "    save_stdout = sys.stdout\n",
    "    sys.stdout = io.BytesIO()\n",
    "    yield\n",
    "    sys.stdout = save_stdout"
   ]
  },
  {
   "cell_type": "code",
   "execution_count": 12,
   "metadata": {},
   "outputs": [],
   "source": [
    "def get_infections(\n",
    "    initI: int = 100, initN: int = 10 ** 5, days_N: int = 21, beta: float = 2.4\n",
    ") -> List[int]:\n",
    "    model = SEIRSModel(\n",
    "        beta=beta,\n",
    "        sigma=1 / 5.2,\n",
    "        gamma=1 / 12.39,\n",
    "        initN=initN,\n",
    "        initI=initI,\n",
    "        beta_D=0.000,\n",
    "        mu_D=0.02,\n",
    "        #         sigma_D=1 / 4.0,\n",
    "        #         gamma_D=1 / 9.0,\n",
    "        theta_E=0.0002,\n",
    "        theta_I=0.002,\n",
    "        psi_E=0.2,\n",
    "        psi_I=1.0,\n",
    "    )\n",
    "    with io.capture_output() as captured:\n",
    "        model.run(T=days_N)\n",
    "    S = model.numS  # time series of S counts\n",
    "    E = model.numE  # time series of E counts\n",
    "    I = model.numI  # time series of I counts\n",
    "    D_E = model.numD_E  # time series of D_E counts\n",
    "    D_I = model.numD_I  # time series of D_I counts\n",
    "    R = model.numR  # time series of R counts\n",
    "    F = model.numF  # time series of F counts\n",
    "    t = model.tseries  # time values corresponding to the above time series\n",
    "    return {\"detected_exposed\": D_E, \"detected_infected\": D_I, \"model\": model, \"t\": t}"
   ]
  },
  {
   "cell_type": "code",
   "execution_count": 13,
   "metadata": {},
   "outputs": [],
   "source": [
    "def get_risk_estimates(\n",
    "    assam_estimated_df: pd.DataFrame, beta\n",
    ") -> Union[List, List]:\n",
    "    days_N = 21\n",
    "    atrisk_day14, atrisk_day21 = [], []\n",
    "    for row in assam_estimated_df[[\"initI\", \"initN\", \"district\"]].iterrows():\n",
    "        initI, initN, district = row[1][0], int(row[1][1]), row[1][2]\n",
    "        #     print(type(initI), type(initN))\n",
    "        infection_results = get_infections(\n",
    "            initI=initI, initN=initN, days_N=days_N, beta=beta\n",
    "        )\n",
    "        detected_infected = infection_results[\"detected_infected\"]\n",
    "        day14 = int(14 * len(detected_infected) / days_N)\n",
    "        case_count_day14 = int(infection_results[\"detected_infected\"][day14])\n",
    "        case_count_day21 = int(infection_results[\"detected_infected\"][-1])\n",
    "        atrisk_day14.append(case_count_day14)\n",
    "        atrisk_day21.append(case_count_day21)\n",
    "    return atrisk_day14, atrisk_day21"
   ]
  },
  {
   "cell_type": "code",
   "execution_count": 14,
   "metadata": {},
   "outputs": [],
   "source": [
    "def get_color_map(values):\n",
    "    percent_travellers_infected = values['percent_travellers_infected'][0]\n",
    "    unknown_to_known_travelers = values['unknown_to_known_travelers'][0]\n",
    "    beta = values['beta'][0]\n",
    "    \n",
    "    assam_estimated_df = assam_df\n",
    "    assam_estimated_df[\"initI\"] = (\n",
    "        percent_travellers_infected * unknown_to_known_travelers * assam_df[\"Inflow\"]\n",
    "    )\n",
    "    assam_estimated_df[\"initI\"] = assam_estimated_df[\"initI\"].astype(int)\n",
    "    assam_estimated_df[\"initN\"] = assam_estimated_df[\"Population\"].astype(int)\n",
    "    atrisk_day14, atrisk_day21 = get_risk_estimates(assam_estimated_df, beta=beta)\n",
    "    assam_estimated_df[f\"day14\"] = atrisk_day14\n",
    "    assam_estimated_df[f\"day21\"] = atrisk_day21\n",
    "    \n",
    "    mins = assam_estimated_df['day21'].max()\n",
    "    \n",
    "    percent_travellers_infected = values['percent_travellers_infected'][1]\n",
    "    unknown_to_known_travelers = values['unknown_to_known_travelers'][1]\n",
    "    beta = values['beta'][1]\n",
    "\n",
    "    assam_estimated_df = assam_df\n",
    "    assam_estimated_df[\"initI\"] = (\n",
    "        percent_travellers_infected * unknown_to_known_travelers * assam_df[\"Inflow\"]\n",
    "    )\n",
    "    assam_estimated_df[\"initI\"] = assam_estimated_df[\"initI\"].astype(int)\n",
    "    assam_estimated_df[\"initN\"] = assam_estimated_df[\"Population\"].astype(int)\n",
    "    atrisk_day14, atrisk_day21 = get_risk_estimates(assam_estimated_df, beta=beta)\n",
    "    assam_estimated_df[f\"day14\"] = atrisk_day14\n",
    "    assam_estimated_df[f\"day21\"] = atrisk_day21\n",
    "    \n",
    "    maxs = assam_estimated_df['day21'].min()\n",
    "\n",
    "    return linear.OrRd_09.scale(mins, maxs)"
   ]
  },
  {
   "cell_type": "code",
   "execution_count": 15,
   "metadata": {},
   "outputs": [],
   "source": [
    "def test(percent_travellers_infected, unknown_to_known_travelers, beta):\n",
    "    \n",
    "    display(\n",
    "        Label(value='', layout = Layout(height=\"50\"))\n",
    "    )\n",
    "        \n",
    "    assam_estimated_df = assam_df\n",
    "    assam_estimated_df[\"initI\"] = (\n",
    "        percent_travellers_infected * unknown_to_known_travelers * assam_df[\"Inflow\"]\n",
    "    )\n",
    "    assam_estimated_df[\"initI\"] = assam_estimated_df[\"initI\"].astype(int)\n",
    "    assam_estimated_df[\"initN\"] = assam_estimated_df[\"Population\"].astype(int)\n",
    "    \n",
    "    atrisk_day14, atrisk_day21 = get_risk_estimates(assam_estimated_df, beta=beta)\n",
    "    assam_estimated_df[f\"day14\"] = atrisk_day14\n",
    "    assam_estimated_df[f\"day21\"] = atrisk_day21\n",
    "    \n",
    "    geo_df = gpd.read_file(\"assam.json\")\n",
    "    df = gpd.GeoDataFrame(pd.merge(assam_estimated_df, geo_df, on=\"district\"), geometry='geometry')\n",
    "    \n",
    "    map = df.folium.chloropeth(width=1200, height= 600,color_by=\"day21\", color=color_map, style = {'color': 'black',\n",
    "                    'weight': 1.5,\n",
    "                    'dashArray': '10, 5',\n",
    "                    'fillOpacity': 0.9,\n",
    "                  }, zoom=7, tiles='cartodbdark_matter', tooltip=['district','day21'], location=(26.244156, 92.537842))\n",
    "    \n",
    "    present = pd.DataFrame(\n",
    "        data = {\n",
    "            'District':df['district'].tolist(),\n",
    "            'AtRisk':df['day21'].tolist()\n",
    "        }\n",
    "    )\n",
    "    \n",
    "    widget1 = Output()\n",
    "    widget2 = Output()\n",
    "    \n",
    "    with widget1:\n",
    "        display(present)\n",
    "    \n",
    "    with widget2:\n",
    "        display(map)\n",
    "        \n",
    "    hbox = GridBox([widget1, widget2], layout=Layout(grid_template_columns='300px 1000px'))\n",
    "    \n",
    "    display(hbox)"
   ]
  },
  {
   "cell_type": "code",
   "execution_count": 16,
   "metadata": {},
   "outputs": [],
   "source": [
    "slider_layout = Layout(width='600px',height='20px')\n",
    "style_dict = {'description_width': '200px'}\n",
    "\n",
    "float_value = [10**i for i in range(-10,0)]\n",
    "float_selections = [(\"%g\"%i,i) for i in float_value]\n",
    "\n",
    "values ={\n",
    "        'percent_travellers_infected' : (1e-10,1e-1),\n",
    "        'unknown_to_known_travelers' : (5,50),\n",
    "        'beta' : (0.5, 5.0)\n",
    "    }\n",
    "\n",
    "color_map = get_color_map(values)\n",
    "\n",
    "a = interactive(\n",
    "    test,\n",
    "    percent_travellers_infected = SelectionSlider(\n",
    "        options=float_selections,\n",
    "        value=1e-3,\n",
    "        description=\"percent_travellers_infected: \",\n",
    "        style = style_dict,\n",
    "        layout = slider_layout\n",
    "    ),\n",
    "    \n",
    "    unknown_to_known_travelers = IntSlider(\n",
    "        value=10, \n",
    "        min=5, \n",
    "        max=50,\n",
    "        step=5,\n",
    "        description=\"unknown_to_known_travelers: \",\n",
    "        style = style_dict,\n",
    "        layout = slider_layout\n",
    "    ),\n",
    "    \n",
    "    beta = FloatSlider(\n",
    "        value=2.4,\n",
    "        min=0.5,\n",
    "        max=5.0,\n",
    "        step=0.01,\n",
    "        description=\"beta: \",\n",
    "        style = style_dict,\n",
    "        layout = slider_layout\n",
    "    )\n",
    ")"
   ]
  },
  {
   "cell_type": "code",
   "execution_count": 17,
   "metadata": {},
   "outputs": [
    {
     "data": {
      "application/vnd.jupyter.widget-view+json": {
       "model_id": "8dc9bee2db274acdbaf4148a5c7e67d8",
       "version_major": 2,
       "version_minor": 0
      },
      "text/plain": [
       "interactive(children=(SelectionSlider(description='percent_travellers_infected: ', index=7, layout=Layout(heig…"
      ]
     },
     "metadata": {},
     "output_type": "display_data"
    }
   ],
   "source": [
    "display(a)"
   ]
  }
 ],
 "metadata": {
  "kernelspec": {
   "display_name": "Python 3",
   "language": "python",
   "name": "python3"
  },
  "language_info": {
   "codemirror_mode": {
    "name": "ipython",
    "version": 3
   },
   "file_extension": ".py",
   "mimetype": "text/x-python",
   "name": "python",
   "nbconvert_exporter": "python",
   "pygments_lexer": "ipython3",
   "version": "3.7.7"
  }
 },
 "nbformat": 4,
 "nbformat_minor": 4
}
