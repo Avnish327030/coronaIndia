{
 "cells": [
  {
   "cell_type": "code",
   "execution_count": 80,
   "metadata": {},
   "outputs": [],
   "source": [
    "from ipywidgets import HBox, VBox, IntSlider, interactive, SelectionSlider, Label, Layout, HTML, Output, GridBox\n",
    "from IPython.display import display\n",
    "import folium\n",
    "import json\n",
    "import pandas as pd\n",
    "import geopandas as gpd\n",
    "import geopatra\n",
    "import random\n",
    "from branca.colormap import linear"
   ]
  },
  {
   "cell_type": "code",
   "execution_count": 81,
   "metadata": {},
   "outputs": [],
   "source": [
    "colormap = linear.OrRd_09.scale(0, 400000)"
   ]
  },
  {
   "cell_type": "code",
   "execution_count": 82,
   "metadata": {},
   "outputs": [],
   "source": [
    "def test(passenger_count,private_bus_to_public_bus,travel_risk,confirmed_risk,qtn_risk):\n",
    "    \n",
    "    display(\n",
    "        Label(value='', layout = Layout(height=\"50\"))\n",
    "    )\n",
    "    \n",
    "    district_data_df = pd.read_csv(\"dummy_assam.csv\")\n",
    "    numbers_df = district_data_df\n",
    "    district_data_df[\"AtRisk\"] = (\n",
    "        numbers_df[\"BusCount\"] \n",
    "        * passenger_count\n",
    "        * private_bus_to_public_bus\n",
    "        / passenger_count\n",
    "        * private_bus_to_public_bus\n",
    "        * travel_risk\n",
    "        + numbers_df[\"QTNCount\"] / qtn_risk\n",
    "        + confirmed_risk * numbers_df[\"CaseCount\"]\n",
    "    ).astype(int)\n",
    "    \n",
    "    present = pd.DataFrame(\n",
    "        data = {\n",
    "            'District':district_data_df['district'].tolist(),\n",
    "            'AtRisk':district_data_df['AtRisk'].tolist()\n",
    "        }\n",
    "    )\n",
    "    geo_df = gpd.read_file(\"assam.json\")\n",
    "    df = gpd.GeoDataFrame(pd.merge(district_data_df, geo_df, on=\"district\"), geometry='geometry')\n",
    "    \n",
    "    map = df.folium.chloropeth(width=1200, height= 600,color_by=\"AtRisk\", color=colormap, style = {'color': 'black',\n",
    "                    'weight': 1.5,\n",
    "                    'dashArray': '10, 5',\n",
    "                    'fillOpacity': 0.9,\n",
    "                  }, zoom=7, tiles='google', tooltip=['district','AtRisk'], location=(26.244156, 92.537842))\n",
    "    \n",
    "    widget1 = Output()\n",
    "    widget2 = Output()\n",
    "    \n",
    "    with widget1:\n",
    "        display(present)\n",
    "    \n",
    "    with widget2:\n",
    "        display(map)\n",
    "        \n",
    "    hbox = GridBox([widget1, widget2], layout=Layout(grid_template_columns='300px 1000px'))\n",
    "    \n",
    "    display(hbox)"
   ]
  },
  {
   "cell_type": "code",
   "execution_count": 83,
   "metadata": {},
   "outputs": [],
   "source": [
    "slider_layout = Layout(width='500px',height='20px')\n",
    "style_dict = {'description_width': '150px'}\n",
    "float_value = [10**-i for i in range(-2,3)]\n",
    "float_selections = [(\"%g\"%i,i) for i in float_value]\n",
    "\n",
    "\n",
    "a = interactive(\n",
    "    test,\n",
    "    passenger_count = IntSlider(\n",
    "        value=50, \n",
    "        min=1, \n",
    "        max=100,\n",
    "        description=\"Passenger Count: \",\n",
    "        style = style_dict,\n",
    "        layout = slider_layout\n",
    "    ),\n",
    "    \n",
    "    private_bus_to_public_bus = IntSlider(\n",
    "        value=50, \n",
    "        min=1, \n",
    "        max=100,\n",
    "        description=\"Private bus to Public bus: \",\n",
    "        style = style_dict,\n",
    "        layout = slider_layout\n",
    "    ),\n",
    "    \n",
    "    confirmed_risk = IntSlider(\n",
    "        value=50, \n",
    "        min=1, \n",
    "        max=100,\n",
    "        description=\"Confirmed Risk: \",\n",
    "        style = style_dict,\n",
    "        layout = slider_layout\n",
    "    ),\n",
    "    \n",
    "    travel_risk = SelectionSlider(\n",
    "        options=float_selections,\n",
    "        value=1,\n",
    "        description=\"Travel Risk: \",\n",
    "        style = style_dict,\n",
    "        layout = slider_layout\n",
    "    ),\n",
    "    \n",
    "    qtn_risk = SelectionSlider(\n",
    "        options=float_selections,\n",
    "        value=1,\n",
    "        description=\"QTN Risk: \",\n",
    "        style = style_dict,\n",
    "        layout = slider_layout\n",
    "    ),\n",
    ")"
   ]
  },
  {
   "cell_type": "code",
   "execution_count": 84,
   "metadata": {
    "scrolled": true
   },
   "outputs": [
    {
     "data": {
      "application/vnd.jupyter.widget-view+json": {
       "model_id": "ab7f2e3d419a4ae7a406ac246cfc4e8e",
       "version_major": 2,
       "version_minor": 0
      },
      "text/plain": [
       "interactive(children=(IntSlider(value=50, description='Passenger Count: ', layout=Layout(height='20px', width=…"
      ]
     },
     "metadata": {},
     "output_type": "display_data"
    }
   ],
   "source": [
    "display(a)"
   ]
  },
  {
   "cell_type": "code",
   "execution_count": null,
   "metadata": {},
   "outputs": [],
   "source": []
  },
  {
   "cell_type": "code",
   "execution_count": null,
   "metadata": {},
   "outputs": [],
   "source": []
  }
 ],
 "metadata": {
  "kernelspec": {
   "display_name": "Python 3",
   "language": "python",
   "name": "python3"
  },
  "language_info": {
   "codemirror_mode": {
    "name": "ipython",
    "version": 3
   },
   "file_extension": ".py",
   "mimetype": "text/x-python",
   "name": "python",
   "nbconvert_exporter": "python",
   "pygments_lexer": "ipython3",
   "version": "3.7.7"
  }
 },
 "nbformat": 4,
 "nbformat_minor": 4
}
