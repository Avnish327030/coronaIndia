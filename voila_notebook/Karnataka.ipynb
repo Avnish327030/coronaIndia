{
 "cells": [
  {
   "cell_type": "code",
   "execution_count": 1,
   "metadata": {},
   "outputs": [],
   "source": [
    "from ipywidgets import HBox, VBox, IntSlider, interactive, SelectionSlider, Label, Layout\n",
    "from IPython.display import display\n",
    "import folium\n",
    "import json\n",
    "import pandas as pd\n",
    "import geopandas as gpd\n",
    "import geopatra\n",
    "import random"
   ]
  },
  {
   "cell_type": "code",
   "execution_count": 6,
   "metadata": {},
   "outputs": [],
   "source": [
    "def test(passenger_count,private_bus_to_public_bus,travel_risk,confirmed_risk,qtn_risk):\n",
    "    district_data_df = pd.read_csv(\"district_info.csv\")\n",
    "    numbers_df = district_data_df\n",
    "    district_data_df[\"AtRisk\"] = (\n",
    "        numbers_df[\"BusCount\"] \n",
    "        * passenger_count\n",
    "        * private_bus_to_public_bus\n",
    "        / passenger_count\n",
    "        * private_bus_to_public_bus\n",
    "        * travel_risk\n",
    "        + numbers_df[\"QTNCount\"] / qtn_risk\n",
    "        + confirmed_risk * numbers_df[\"CaseCount\"]\n",
    "    ).astype(int)\n",
    "    \n",
    "    geo_df = gpd.read_file(\"ka.json\")\n",
    "    df = gpd.GeoDataFrame(pd.merge(district_data_df, geo_df, on=\"district\"), geometry='geometry')\n",
    "    display(df.folium.chloropeth(color_by=\"AtRisk\", color=\"red\",style = {'color': 'black',\n",
    "                    'weight': 1,\n",
    "                    'dashArray': '10, 5',\n",
    "                    'fillOpacity': 0.5,\n",
    "                  }, zoom=6, tiles='googlehybrid', tooltip=['district','AtRisk'], location=(15.317277, 75.713890)))"
   ]
  },
  {
   "cell_type": "code",
   "execution_count": 23,
   "metadata": {},
   "outputs": [],
   "source": [
    "slider_layout = Layout(width='500px',height='20px')\n",
    "style_dict = {'description_width': '150px'}\n",
    "float_value = [10**-i for i in range(1,11)]\n",
    "float_selections = [(\"%g\"%i,i) for i in float_value]\n",
    "\n",
    "\n",
    "a = interactive(\n",
    "    test,\n",
    "    passenger_count = IntSlider(\n",
    "        value=50, \n",
    "        min=0, \n",
    "        max=100,\n",
    "        description=\"Passenger Count: \",\n",
    "        style = style_dict,\n",
    "        layout = slider_layout\n",
    "    ),\n",
    "    \n",
    "    private_bus_to_public_bus = IntSlider(\n",
    "        value=50, \n",
    "        min=0, \n",
    "        max=100,\n",
    "        description=\"Private bus to Public bus: \",\n",
    "        style = style_dict,\n",
    "        layout = slider_layout\n",
    "    ),\n",
    "    \n",
    "    confirmed_risk = IntSlider(\n",
    "        value=50, \n",
    "        min=0, \n",
    "        max=100,\n",
    "        description=\"Confirmed Risk: \",\n",
    "        style = style_dict,\n",
    "        layout = slider_layout\n",
    "    ),\n",
    "    \n",
    "    travel_risk = SelectionSlider(\n",
    "        options=float_selections,\n",
    "        value=float_value[len(float_selections)//2],\n",
    "        description=\"Travel Risk: \",\n",
    "        style = style_dict,\n",
    "        layout = slider_layout\n",
    "    ),\n",
    "    \n",
    "    qtn_risk = SelectionSlider(\n",
    "        options=float_selections,\n",
    "        value=float_value[len(float_selections)//2],\n",
    "        description=\"QTN Risk: \",\n",
    "        style = style_dict,\n",
    "        layout = slider_layout\n",
    "    ),\n",
    ")"
   ]
  },
  {
   "cell_type": "code",
   "execution_count": 24,
   "metadata": {
    "scrolled": true
   },
   "outputs": [
    {
     "data": {
      "application/vnd.jupyter.widget-view+json": {
       "model_id": "19864c981a7347bd9e5723faf77b210d",
       "version_major": 2,
       "version_minor": 0
      },
      "text/plain": [
       "interactive(children=(IntSlider(value=50, description='Passenger Count: ', layout=Layout(height='20px', width=…"
      ]
     },
     "metadata": {},
     "output_type": "display_data"
    }
   ],
   "source": [
    "display(a)"
   ]
  },
  {
   "cell_type": "code",
   "execution_count": null,
   "metadata": {},
   "outputs": [],
   "source": []
  },
  {
   "cell_type": "code",
   "execution_count": null,
   "metadata": {},
   "outputs": [],
   "source": []
  }
 ],
 "metadata": {
  "kernelspec": {
   "display_name": "Python 3",
   "language": "python",
   "name": "python3"
  },
  "language_info": {
   "codemirror_mode": {
    "name": "ipython",
    "version": 3
   },
   "file_extension": ".py",
   "mimetype": "text/x-python",
   "name": "python",
   "nbconvert_exporter": "python",
   "pygments_lexer": "ipython3",
   "version": "3.7.7"
  }
 },
 "nbformat": 4,
 "nbformat_minor": 4
}
